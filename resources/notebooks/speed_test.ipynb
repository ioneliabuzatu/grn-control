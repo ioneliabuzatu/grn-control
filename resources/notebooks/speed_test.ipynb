{
 "cells": [
  {
   "cell_type": "code",
   "execution_count": 20,
   "id": "1e80efa2-4516-4b81-aad4-9372cc0c5827",
   "metadata": {},
   "outputs": [],
   "source": [
    "from SERGIO.SERGIO.sergio import sergio\n",
    "import pandas as pd\n",
    "import numpy as np\n",
    "from time import time"
   ]
  },
  {
   "cell_type": "code",
   "execution_count": 25,
   "id": "242afa30-aa41-47aa-81b9-19e4d01f7244",
   "metadata": {},
   "outputs": [
    {
     "name": "stdout",
     "output_type": "stream",
     "text": [
      "Start simulating new cell type\n",
      "binID: 0\n",
      "number of initial cells: 17\n",
      "Done with current cell type\n",
      "Start simulating new cell type\n",
      "binID: 1\n",
      "number of initial cells: 24\n",
      "Done with current cell type\n",
      "00:00:50.71\n",
      "00:00:50.71\n"
     ]
    }
   ],
   "source": [
    "start = time()\n",
    "\n",
    "df = pd.read_csv('../data/toy/two_cells_types_denoised_bifurcation.tab', sep='\\t', header=None, index_col=None)\n",
    "bMat = df.values\n",
    "sim = sergio(number_genes=100, number_bins =2, number_sc = 300, noise_params = 0.2, decays=0.8, sampling_state = 1, noise_params_splice = 0.07, noise_type='dpd', dynamics=True, bifurcation_matrix= bMat)\n",
    "sim.build_graph(input_file_taregts ='../data/toy/two_cells_types_denoised_100G_dynamics_interactions_grn.txt', input_file_regs='../data/toy/two_cells_types_denoised_dynamics_regulons.txt', shared_coop_state=2)\n",
    "sim.simulate_dynamics()\n",
    "exprU, exprS = sim.getExpressions_dynamics()\n",
    "exprU_clean = np.concatenate(exprU, axis = 1)\n",
    "exprS_clean = np.concatenate(exprS, axis = 1)\n",
    "exprU_O, exprS_O = sim.outlier_effect_dynamics(exprU, exprS, outlier_prob = 0.01, mean = 0.8, scale = 1)\n",
    "libFactor, exprU_O_L, exprS_O_L = sim.lib_size_effect_dynamics(exprU_O, exprS_O, mean = 4.6, scale = 0.4)\n",
    "binary_indU, binary_indS = sim.dropout_indicator_dynamics(exprU_O_L, exprS_O_L, shape = 6.5, percentile = 82)\n",
    "exprU_O_L_D = np.multiply(binary_indU, exprU_O_L)\n",
    "exprS_O_L_D = np.multiply(binary_indS, exprS_O_L)\n",
    "count_matrix_U, count_matrix_S = sim.convert_to_UMIcounts_dynamics(exprU_O_L_D, exprS_O_L_D)\n",
    "count_matrix_U = np.concatenate(count_matrix_U, axis = 1)\n",
    "count_matrix_S = np.concatenate(count_matrix_S, axis = 1)\n",
    "\n",
    "end =  time()\n",
    "hours, rem = divmod(end-start, 3600)\n",
    "minutes, seconds = divmod(rem, 60)\n",
    "print(f\"{int(hours):0>2}:{int(minutes):0>2}:{seconds:05.2f}\")"
   ]
  },
  {
   "cell_type": "code",
   "execution_count": null,
   "id": "239e2236-a035-4876-a622-4b85b683438a",
   "metadata": {},
   "outputs": [],
   "source": []
  }
 ],
 "metadata": {
  "kernelspec": {
   "display_name": "Python 3 (ipykernel)",
   "language": "python",
   "name": "python3"
  },
  "language_info": {
   "codemirror_mode": {
    "name": "ipython",
    "version": 3
   },
   "file_extension": ".py",
   "mimetype": "text/x-python",
   "name": "python",
   "nbconvert_exporter": "python",
   "pygments_lexer": "ipython3",
   "version": "3.9.7"
  }
 },
 "nbformat": 4,
 "nbformat_minor": 5
}
